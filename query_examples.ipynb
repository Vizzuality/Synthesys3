{
 "cells": [
  {
   "cell_type": "markdown",
   "metadata": {},
   "source": [
    "# Synthesys 3 Query Examples\n",
    "\n",
    "This notebook shows how to build the queries to the SYNTHESYS datasets, using Carto's MAP API and SQL API.\n",
    "\n",
    "We have created an account on Carto `synthesys`, which contains several data tables.\n",
    "1. sanitized_data : A the access dataset from SYNTHESYS. It includes geocoded points.\n",
    "1. gadm28_adm1 : the GADM28 admin 1 polygons. ISO codes are in 3 character format (var:iso)\n",
    "1. gadm28_countries  : GADM28 country polygons. ISO codes are in 2 character format (var:iso2)\n",
    "\n",
    "We will need to create a variety of widgets from these data, including choropleth maps, donut plots, bubble plots, tree plots, time series bar charts, histograms, and an age-sex pyramid. We will also use the sql api to retrieve data for dynamic text (a sentence that should include variables).\n",
    "\n",
    "\n",
    "## Possible filters\n",
    "\n",
    "#### Country\n",
    "\n",
    "The below JSON structure gives the ISO2 code paired with the English country name. It can be used on the front end to build the filter. A user can select the english country name, and the corresponding ISO2 code can be sent as a variable in the SQL queries given on this page to return data for that country from Carto.\n",
    "\n",
    "Note the ISO2 codes are used to query the `gadm28_countries` table. Whereas ISO3 codes are used for the `gadm28_adm1` table (and should be used for SQL requests being applied with the COUNTRY FILTER).\n",
    "\n",
    "*ISO2 codes*\n",
    "```json\n",
    "{'AL': 'Albania',\n",
    " 'AT': 'Austria',\n",
    " 'BA': 'Bosnia and Herzegovina',\n",
    " 'BE': 'Belgium',\n",
    " 'BG': 'Bulgaria',\n",
    " 'CH': 'Switzerland',\n",
    " 'CY': 'Cyprus',\n",
    " 'CZ': 'Czech Republic',\n",
    " 'DE': 'Germany',\n",
    " 'DK': 'Denmark',\n",
    " 'EE': 'Estonia',\n",
    " 'ES': 'Spain',\n",
    " 'FI': 'Finland',\n",
    " 'FR': 'France',\n",
    " 'GB': 'United Kingdom',\n",
    " 'GF': 'French Guiana',\n",
    " 'GR': 'Greece',\n",
    " 'HR': 'Croatia',\n",
    " 'HU': 'Hungary',\n",
    " 'IE': 'Ireland',\n",
    " 'IL': 'Israel',\n",
    " 'IS': 'Iceland',\n",
    " 'IT': 'Italy',\n",
    " 'LI': 'Liechtenstein',\n",
    " 'LT': 'Lithuania',\n",
    " 'LU': 'Luxembourg',\n",
    " 'LV': 'Latvia',\n",
    " 'MK': 'Macedonia',\n",
    " 'MT': 'Malta',\n",
    " 'NL': 'Netherlands',\n",
    " 'NO': 'Norway',\n",
    " 'PL': 'Poland',\n",
    " 'PS': 'Palestina',\n",
    " 'PT': 'Portugal',\n",
    " 'RE': 'Reunion',\n",
    " 'RO': 'Romania',\n",
    " 'RS': 'Serbia',\n",
    " 'SE': 'Sweden',\n",
    " 'SI': 'Slovenia',\n",
    " 'SK': 'Slovakia',\n",
    " 'TR': 'Turkey'}\n",
    "```\n",
    "\n",
    "*ISO3 codes*\n",
    "\n",
    "```json\n",
    "{'ALB': 'Albania',\n",
    " 'AUT': 'Austria',\n",
    " 'BEL': 'Belgium',\n",
    " 'BGR': 'Bulgaria',\n",
    " 'BIH': 'Bosnia and Herzegovina',\n",
    " 'CHE': 'Switzerland',\n",
    " 'CYP': 'Cyprus',\n",
    " 'CZE': 'Czech Republic',\n",
    " 'DEU': 'Germany',\n",
    " 'DNK': 'Denmark',\n",
    " 'ESP': 'Spain',\n",
    " 'EST': 'Estonia',\n",
    " 'FIN': 'Finland',\n",
    " 'FRA': 'France',\n",
    " 'GBR': 'United Kingdom',\n",
    " 'GRC': 'Greece',\n",
    " 'GUF': 'French Guiana',\n",
    " 'HRV': 'Croatia',\n",
    " 'HUN': 'Hungary',\n",
    " 'IRL': 'Ireland',\n",
    " 'ISL': 'Iceland',\n",
    " 'ISR': 'Israel',\n",
    " 'ITA': 'Italy',\n",
    " 'LIE': 'Liechtenstein',\n",
    " 'LTU': 'Lithuania',\n",
    " 'LUX': 'Luxembourg',\n",
    " 'LVA': 'Latvia',\n",
    " 'MKD': 'Macedonia',\n",
    " 'NLD': 'Netherlands',\n",
    " 'NOR': 'Norway',\n",
    " 'POL': 'Poland',\n",
    " 'PRT': 'Portugal',\n",
    " 'PSE': 'Palestina',\n",
    " 'REU': 'Reunion',\n",
    " 'ROU': 'Romania',\n",
    " 'SRB': 'Serbia',\n",
    " 'SVK': 'Slovakia',\n",
    " 'SVN': 'Slovenia',\n",
    " 'SWE': 'Sweden',\n",
    " 'TUR': 'Turkey'}\n",
    " ```\n",
    "\n",
    "#### Discipline\n",
    "\n",
    "```json\n",
    "{'discipline': ['Earth Sciences & Environment',\n",
    "                'Engineering & Technology',\n",
    "                'Humanities',\n",
    "                'Information & Communication Technologies',\n",
    "                'Life Sciences & Biotech',\n",
    "                'Material Sciences',\n",
    "                'Physics',\n",
    "                'Social Sciences']}\n",
    "```\n",
    "\n",
    "#### Funding round\n",
    "\n",
    "Users should be able to filter the data by funding round (attribute `synth_roun`): there are three possible values of this, corresponding to three funding rounds.\n",
    "\n",
    "```json\n",
    "{'synth_roun': ['R1', 'R2', 'R3']}\n",
    "```"
   ]
  },
  {
   "cell_type": "markdown",
   "metadata": {},
   "source": [
    "## Pre-calculated values\n",
    "\n",
    "In some cases, there isn't a need to query the datasets via the backend, as the json is lightweight and needed repeatedly, it can be embedded in the site:\n",
    "\n",
    "For example, the following table gives *the total number of research visits by country* for all times and disciplines. \n",
    "\n",
    "```json\n",
    "{'fields': {'count': {'type': 'number'},\n",
    "            'iso': {'type': 'string'},\n",
    "            'name_engli': {'type': 'string'}},\n",
    " 'rows': [{'count': 903, 'iso': 'DE', 'name_engli': 'Germany'},\n",
    "          {'count': 599, 'iso': 'GB', 'name_engli': 'United Kingdom'},\n",
    "          {'count': 521, 'iso': 'IT', 'name_engli': 'Italy'},\n",
    "          {'count': 500, 'iso': 'ES', 'name_engli': 'Spain'},\n",
    "          {'count': 460, 'iso': 'PL', 'name_engli': 'Poland'},\n",
    "          {'count': 360, 'iso': 'CZ', 'name_engli': 'Czech Republic'},\n",
    "          {'count': 338, 'iso': 'FR', 'name_engli': 'France'},\n",
    "          {'count': 202, 'iso': 'PT', 'name_engli': 'Portugal'},\n",
    "          {'count': 164, 'iso': 'BG', 'name_engli': 'Bulgaria'},\n",
    "          {'count': 159, 'iso': 'BE', 'name_engli': 'Belgium'},\n",
    "          {'count': 147, 'iso': 'AT', 'name_engli': 'Austria'},\n",
    "          {'count': 143, 'iso': 'HU', 'name_engli': 'Hungary'},\n",
    "          {'count': 134, 'iso': 'NL', 'name_engli': 'Netherlands'},\n",
    "          {'count': 102, 'iso': 'TR', 'name_engli': 'Turkey'},\n",
    "          {'count': 98, 'iso': 'SE', 'name_engli': 'Sweden'},\n",
    "          {'count': 92, 'iso': 'CH', 'name_engli': 'Switzerland'},\n",
    "          {'count': 87, 'iso': 'RO', 'name_engli': 'Romania'},\n",
    "          {'count': 80, 'iso': 'FI', 'name_engli': 'Finland'},\n",
    "          {'count': 73, 'iso': 'DK', 'name_engli': 'Denmark'},\n",
    "          {'count': 67, 'iso': 'IE', 'name_engli': 'Ireland'},\n",
    "          {'count': 65, 'iso': 'SK', 'name_engli': 'Slovakia'},\n",
    "          {'count': 64, 'iso': 'NO', 'name_engli': 'Norway'},\n",
    "          {'count': 62, 'iso': 'GR', 'name_engli': 'Greece'},\n",
    "          {'count': 57, 'iso': 'RS', 'name_engli': 'Serbia'},\n",
    "          {'count': 52, 'iso': 'IL', 'name_engli': 'Israel'},\n",
    "          {'count': 35, 'iso': 'EE', 'name_engli': 'Estonia'},\n",
    "          {'count': 33, 'iso': 'HR', 'name_engli': 'Croatia'},\n",
    "          {'count': 27, 'iso': 'LT', 'name_engli': 'Lithuania'},\n",
    "          {'count': 20, 'iso': 'MK', 'name_engli': 'Macedonia'},\n",
    "          {'count': 16, 'iso': 'PS', 'name_engli': 'Palestina'},\n",
    "          {'count': 10, 'iso': 'SI', 'name_engli': 'Slovenia'},\n",
    "          {'count': 7, 'iso': 'IS', 'name_engli': 'Iceland'},\n",
    "          {'count': 7, 'iso': 'LV', 'name_engli': 'Latvia'},\n",
    "          {'count': 6, 'iso': 'AL', 'name_engli': 'Albania'},\n",
    "          {'count': 5, 'iso': 'GF', 'name_engli': 'French Guiana'},\n",
    "          {'count': 4, 'iso': 'BA', 'name_engli': 'Bosnia and Herzegovina'},\n",
    "          {'count': 4, 'iso': 'RE', 'name_engli': 'Reunion'},\n",
    "          {'count': 2, 'iso': 'MT', 'name_engli': 'Malta'},\n",
    "          {'count': 1, 'iso': 'CY', 'name_engli': 'Cyprus'},\n",
    "          {'count': 1, 'iso': 'LI', 'name_engli': 'Liechtenstein'},\n",
    "          {'count': 1, 'iso': 'LU', 'name_engli': 'Luxembourg'}],\n",
    " 'time': 12.721,\n",
    " 'total_rows': 41}\n",
    " ```"
   ]
  },
  {
   "cell_type": "markdown",
   "metadata": {},
   "source": [
    "## Admin 1 level queries\n",
    "\n",
    "The following code shows how to create choropleth plots for ADMIN 1 level data.\n",
    "\n",
    "#### Filter: By Country\n",
    "\n",
    "If a user is filtering by country, they should see a choropleth that shows ADMIN 1 level view of that country.\n",
    "\n",
    "To create a choropleth of ADMIN 1 areas, for a single country, use the following SQL query to the CARTO MAP API. Note the `{variable_iso}` should be whatever three character country code we wish to set (e.g. 'DEU' for Germany).\n",
    "A json mapping of the country names to the three and two letter iso codes is given in this notebook.\n",
    "\n",
    "```sql\n",
    "     WITH gadm28 as (select the_geom_webmercator FROM gadm28_adm1 WHERE iso={variable_iso})\n",
    "           SELECT gadm28.the_geom_webmercator, count(synthesys.home_insti)\n",
    "           FROM  sanitized_data as synthesys, gadm28\n",
    "           WHERE ST_Intersects(gadm28.the_geom_webmercator, synthesys.the_geom_webmercator)\n",
    "           GROUP BY gadm28.the_geom_webmercator\n",
    "```\n",
    "\n",
    "\n",
    "These codes should come from a drop-down filter menu. Valid possibilities for the filters are listed in this notebook."
   ]
  },
  {
   "cell_type": "code",
   "execution_count": 10,
   "metadata": {
    "collapsed": true
   },
   "outputs": [],
   "source": [
    "import folium\n",
    "import pprint\n",
    "import requests\n",
    "import json"
   ]
  },
  {
   "cell_type": "code",
   "execution_count": 39,
   "metadata": {},
   "outputs": [
    {
     "name": "stdout",
     "output_type": "stream",
     "text": [
      "https://synthesys.carto.com/api/v1/map\n",
      "{'cdn_url': {'http': 'ashbu.cartocdn.com',\n",
      "             'https': 'cartocdn-ashbu.global.ssl.fastly.net',\n",
      "             'templates': {'http': {'subdomains': ['0', '1', '2', '3'],\n",
      "                                    'url': 'http://{s}.ashbu.cartocdn.com'},\n",
      "                           'https': {'subdomains': ['a', 'b', 'c', 'd'],\n",
      "                                     'url': 'https://cartocdn-ashbu_{s}.global.ssl.fastly.net'}}},\n",
      " 'last_updated': '2017-07-26T13:07:18.210Z',\n",
      " 'layergroupid': '68c64446d411362f51f96062f5c32ce4:1501074438210',\n",
      " 'metadata': {'analyses': [],\n",
      "              'dataviews': {},\n",
      "              'layers': [{'id': 'layer0',\n",
      "                          'meta': {'cartocss': '#layer {polygon-fill: '\n",
      "                                               '#fee5d9;[ count > 22 ] '\n",
      "                                               '{polygon-fill: #fcae91;}[ '\n",
      "                                               'count > 47 ] {polygon-fill: '\n",
      "                                               '#fb6a4a;}[ count > 93 ] '\n",
      "                                               '{polygon-fill: #de2d26;}[ '\n",
      "                                               'count > 116 ] {polygon-fill: '\n",
      "                                               '#a50f15;}\\n'\n",
      "                                               '                   '\n",
      "                                               'polygon-opacity: 0.9;}',\n",
      "                                   'cartocss_meta': {'rules': [{'buckets': [{'filter': {'end': 22,\n",
      "                                                                                        'start': 9,\n",
      "                                                                                        'type': 'range'},\n",
      "                                                                             'value': '#fee5d9'},\n",
      "                                                                            {'filter': {'end': 47,\n",
      "                                                                                        'start': 22,\n",
      "                                                                                        'type': 'range'},\n",
      "                                                                             'value': '#fcae91'},\n",
      "                                                                            {'filter': {'end': 93,\n",
      "                                                                                        'start': 47,\n",
      "                                                                                        'type': 'range'},\n",
      "                                                                             'value': '#fb6a4a'},\n",
      "                                                                            {'filter': {'end': 116,\n",
      "                                                                                        'start': 93,\n",
      "                                                                                        'type': 'range'},\n",
      "                                                                             'value': '#de2d26'},\n",
      "                                                                            {'filter': {'end': 188,\n",
      "                                                                                        'start': 116,\n",
      "                                                                                        'type': 'range'},\n",
      "                                                                             'value': '#a50f15'}],\n",
      "                                                                'column': 'count',\n",
      "                                                                'mapping': '>',\n",
      "                                                                'prop': 'polygon-fill',\n",
      "                                                                'selector': '#layer',\n",
      "                                                                'stats': {'filter_avg': 60.06666666666667}}]},\n",
      "                                   'stats': {'estimatedFeatureCount': -1}},\n",
      "                          'type': 'mapnik'}]}}\n"
     ]
    },
    {
     "data": {
      "text/html": [
       "<div style=\"width:100%;\"><div style=\"position:relative;width:100%;height:0;padding-bottom:60%;\"><iframe src=\"data:text/html;charset=utf-8;base64,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\" style=\"position:absolute;width:100%;height:100%;left:0;top:0;border:none !important;\" allowfullscreen webkitallowfullscreen mozallowfullscreen></iframe></div></div>"
      ],
      "text/plain": [
       "<folium.folium.Map at 0x115dc9b38>"
      ]
     },
     "execution_count": 39,
     "metadata": {},
     "output_type": "execute_result"
    }
   ],
   "source": [
    "# example of getting admin1 choropleth for Germany\n",
    "\n",
    "variable_iso = 'DEU'\n",
    "\n",
    "query = f\"\"\"with gadm28 as (select the_geom_webmercator from  gadm28_adm1 where iso='{variable_iso}')\n",
    "           SELECT gadm28.the_geom_webmercator, count(synthesys.home_insti)\n",
    "           FROM  sanitized_data as synthesys, gadm28\n",
    "           where ST_Intersects(  gadm28.the_geom_webmercator, synthesys.the_geom_webmercator)\n",
    "           group by gadm28.the_geom_webmercator\"\"\"\n",
    "\n",
    "style = \"\"\"#layer {polygon-fill: ramp([count],\n",
    "                   colorbrewer(Reds), jenks());\n",
    "                   polygon-opacity: 0.9;}\"\"\"\n",
    "\n",
    "\n",
    "account = 'synthesys'\n",
    "urlCarto = 'https://'+account+'.carto.com/api/v1/map'\n",
    "body = {\n",
    "    \"layers\": [{\n",
    "        \"type\": \"cartodb\",\n",
    "        \"options\": {\n",
    "            \"sql\": query,\n",
    "            \"cartocss\":style,\n",
    "            \"cartocss_version\": \"2.1.1\"\n",
    "        }\n",
    "    }]\n",
    "}\n",
    "\n",
    "\n",
    "r = requests.post(urlCarto, data=json.dumps(body), headers={'content-type': 'application/json; charset=UTF-8'})\n",
    "print(r.url)\n",
    "pprint.pprint(r.json())\n",
    "\n",
    "tileUrl = 'https://'+account+'.carto.com/api/v1/map/' + r.json()['layergroupid'] + '/{z}/{x}/{y}.png32';\n",
    "\n",
    "map_osm = folium.Map(location=[45.5236, 0.6750], zoom_start=3)\n",
    "folium.TileLayer(\n",
    "    tiles=tileUrl,\n",
    "    attr='text',\n",
    "    name='text',\n",
    "    overlay=True\n",
    ").add_to(map_osm)\n",
    "map_osm"
   ]
  },
  {
   "cell_type": "markdown",
   "metadata": {},
   "source": [
    "If data are required from the map/or we need an accompanying histogram of the values from each area:\n",
    "\n",
    "```sql\n",
    "with gadm28 as (SELECT the_geom_webmercator, iso, name_1 FROM  gadm28_adm1 WHERE iso='DEU')\n",
    " SELECT gadm28.iso, gadm28.name_1, COUNT(synthesys.home_insti)\n",
    " FROM  sanitized_data as synthesys, gadm28\n",
    " where ST_Intersects(  gadm28.the_geom_webmercator, synthesys.the_geom_webmercator)\n",
    " group by gadm28.the_geom_webmercator, gadm28.iso, gadm28.name_1\n",
    " ORDER BY count DESC```"
   ]
  },
  {
   "cell_type": "code",
   "execution_count": 56,
   "metadata": {},
   "outputs": [
    {
     "name": "stdout",
     "output_type": "stream",
     "text": [
      "https://synthesys.carto.com/api/v2/sql?q=with+gadm28+as+%28SELECT+the_geom_webmercator%2C+iso%2C+name_1+FROM++gadm28_adm1+WHERE+iso%3D%27DEU%27%29%0A+SELECT+gadm28.iso%2C+gadm28.name_1%2C+COUNT%28synthesys.home_insti%29%0A+FROM++sanitized_data+as+synthesys%2C+gadm28%0A+where+ST_Intersects%28++gadm28.the_geom_webmercator%2C+synthesys.the_geom_webmercator%29%0A+group+by+gadm28.iso%2C+gadm28.name_1%0A+ORDER+BY+count+DESC\n"
     ]
    }
   ],
   "source": [
    "# example of getting the data of the choropleth to make a histogram for the german choropleth if needed\n",
    "\n",
    "variable_iso = 'DEU'\n",
    "\n",
    "query = f\"\"\"with gadm28 as (SELECT the_geom_webmercator, iso, name_1 FROM  gadm28_adm1 WHERE iso='{variable_iso}')\n",
    " SELECT gadm28.iso, gadm28.name_1, COUNT(synthesys.home_insti)\n",
    " FROM  sanitized_data as synthesys, gadm28\n",
    " where ST_Intersects(  gadm28.the_geom_webmercator, synthesys.the_geom_webmercator)\n",
    " group by gadm28.iso, gadm28.name_1\n",
    " ORDER BY count DESC\"\"\"\n",
    "\n",
    "account = 'synthesys'\n",
    "urlCarto = f\"https://{account}.carto.com/api/v2/sql\"\n",
    "\n",
    "sql = {\"q\": query}\n",
    "r = requests.get(urlCarto, params=sql)\n",
    "print(r.url)\n",
    "#pprint.pprint(r.json())"
   ]
  },
  {
   "cell_type": "markdown",
   "metadata": {},
   "source": [
    "The above request should return the following json data, which you can use to build a plot:\n",
    "\n",
    "```json\n",
    "{'fields': {'count': {'type': 'number'},\n",
    "            'iso': {'type': 'string'},\n",
    "            'name_1': {'type': 'string'}},\n",
    " 'rows': [{'count': 188, 'iso': 'DEU', 'name_1': 'Bayern'},\n",
    "          {'count': 140, 'iso': 'DEU', 'name_1': 'Baden-Württemberg'},\n",
    "          {'count': 116, 'iso': 'DEU', 'name_1': 'Hessen'},\n",
    "          {'count': 94, 'iso': 'DEU', 'name_1': 'Nordrhein-Westfalen'},\n",
    "          {'count': 79, 'iso': 'DEU', 'name_1': 'Niedersachsen'},\n",
    "          {'count': 70, 'iso': 'DEU', 'name_1': 'Berlin'},\n",
    "          {'count': 47, 'iso': 'DEU', 'name_1': 'Sachsen'},\n",
    "          {'count': 41, 'iso': 'DEU', 'name_1': 'Hamburg'},\n",
    "          {'count': 37, 'iso': 'DEU', 'name_1': 'Thüringen'},\n",
    "          {'count': 22, 'iso': 'DEU', 'name_1': 'Rheinland-Pfalz'},\n",
    "          {'count': 20, 'iso': 'DEU', 'name_1': 'Mecklenburg-Vorpommern'},\n",
    "          {'count': 15, 'iso': 'DEU', 'name_1': 'Schleswig-Holstein'},\n",
    "          {'count': 15, 'iso': 'DEU', 'name_1': 'Bremen'},\n",
    "          {'count': 10, 'iso': 'DEU', 'name_1': 'Brandenburg'},\n",
    "          {'count': 9, 'iso': 'DEU', 'name_1': 'Sachsen-Anhalt'}],\n",
    " 'time': 0.874,\n",
    " 'total_rows': 15}\n",
    "```"
   ]
  },
  {
   "cell_type": "markdown",
   "metadata": {},
   "source": [
    "## Country-wide queries\n",
    "\n",
    "The Discipline and Funding round filters should trigger Europe-wide choropleths. \n",
    "\n",
    "```sql\n",
    "WITH gadm28 AS (SELECT the_geom_webmercator, iso2 as iso FROM  gadm28_countries)\n",
    " SELECT gadm28.the_geom_webmercator, gadm28.iso, COUNT(synthesys.home_insti) AS count\n",
    " FROM  sanitized_data AS synthesys, gadm28\n",
    " WHERE ST_Intersects(gadm28.the_geom_webmercator, synthesys.the_geom_webmercator)\n",
    " and synthesys.discipline like 'Earth Sciences & Environment'\n",
    " GROUP BY gadm28.the_geom_webmercator, gadm28.iso\n",
    "```"
   ]
  },
  {
   "cell_type": "code",
   "execution_count": 49,
   "metadata": {},
   "outputs": [
    {
     "name": "stdout",
     "output_type": "stream",
     "text": [
      "https://synthesys.carto.com/api/v1/map\n",
      "{'cdn_url': {'http': 'ashbu.cartocdn.com',\n",
      "             'https': 'cartocdn-ashbu.global.ssl.fastly.net',\n",
      "             'templates': {'http': {'subdomains': ['0', '1', '2', '3'],\n",
      "                                    'url': 'http://{s}.ashbu.cartocdn.com'},\n",
      "                           'https': {'subdomains': ['a', 'b', 'c', 'd'],\n",
      "                                     'url': 'https://cartocdn-ashbu_{s}.global.ssl.fastly.net'}}},\n",
      " 'last_updated': '2017-07-27T09:10:25.375Z',\n",
      " 'layergroupid': '1a34bd6fc460b4e56eba432764b6fb04:1501146625375',\n",
      " 'metadata': {'analyses': [],\n",
      "              'dataviews': {},\n",
      "              'layers': [{'id': 'layer0',\n",
      "                          'meta': {'cartocss': '#layer {polygon-fill: '\n",
      "                                               '#fee5d9;[ count > 22 ] '\n",
      "                                               '{polygon-fill: #fcae91;}[ '\n",
      "                                               'count > 66 ] {polygon-fill: '\n",
      "                                               '#fb6a4a;}[ count > 204 ] '\n",
      "                                               '{polygon-fill: #de2d26;}[ '\n",
      "                                               'count > 320 ] {polygon-fill: '\n",
      "                                               '#a50f15;}\\n'\n",
      "                                               '                   '\n",
      "                                               'polygon-opacity: 0.9;}',\n",
      "                                   'cartocss_meta': {'rules': [{'buckets': [{'filter': {'end': 22,\n",
      "                                                                                        'start': 1,\n",
      "                                                                                        'type': 'range'},\n",
      "                                                                             'value': '#fee5d9'},\n",
      "                                                                            {'filter': {'end': 66,\n",
      "                                                                                        'start': 22,\n",
      "                                                                                        'type': 'range'},\n",
      "                                                                             'value': '#fcae91'},\n",
      "                                                                            {'filter': {'end': 204,\n",
      "                                                                                        'start': 66,\n",
      "                                                                                        'type': 'range'},\n",
      "                                                                             'value': '#fb6a4a'},\n",
      "                                                                            {'filter': {'end': 320,\n",
      "                                                                                        'start': 204,\n",
      "                                                                                        'type': 'range'},\n",
      "                                                                             'value': '#de2d26'},\n",
      "                                                                            {'filter': {'end': 477,\n",
      "                                                                                        'start': 320,\n",
      "                                                                                        'type': 'range'},\n",
      "                                                                             'value': '#a50f15'}],\n",
      "                                                                'column': 'count',\n",
      "                                                                'mapping': '>',\n",
      "                                                                'prop': 'polygon-fill',\n",
      "                                                                'selector': '#layer',\n",
      "                                                                'stats': {'filter_avg': 83}}]},\n",
      "                                   'stats': {'estimatedFeatureCount': -1}},\n",
      "                          'type': 'mapnik'}]}}\n"
     ]
    },
    {
     "data": {
      "text/html": [
       "<div style=\"width:100%;\"><div style=\"position:relative;width:100%;height:0;padding-bottom:60%;\"><iframe src=\"data:text/html;charset=utf-8;base64,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\" style=\"position:absolute;width:100%;height:100%;left:0;top:0;border:none !important;\" allowfullscreen webkitallowfullscreen mozallowfullscreen></iframe></div></div>"
      ],
      "text/plain": [
       "<folium.folium.Map at 0x116cd0358>"
      ]
     },
     "execution_count": 49,
     "metadata": {},
     "output_type": "execute_result"
    }
   ],
   "source": [
    "discipline_var = 'Earth Sciences & Environment'\n",
    "\n",
    "query = f\"\"\"WITH gadm28 AS (SELECT the_geom_webmercator, iso2 as iso FROM  gadm28_countries)\n",
    " SELECT gadm28.the_geom_webmercator, gadm28.iso, COUNT(synthesys.home_insti) AS count\n",
    " FROM  sanitized_data AS synthesys, gadm28\n",
    " WHERE ST_Intersects(gadm28.the_geom_webmercator, synthesys.the_geom_webmercator)\n",
    " and synthesys.discipline like '{discipline_var}'\n",
    " GROUP BY gadm28.the_geom_webmercator, gadm28.iso\"\"\"\n",
    "\n",
    "\n",
    "style = \"\"\"#layer {polygon-fill: ramp([count], colorbrewer(Reds), jenks());\n",
    "                   polygon-opacity: 0.9;}\"\"\"\n",
    "\n",
    "account = 'synthesys'\n",
    "urlCarto = 'https://'+account+'.carto.com/api/v1/map'\n",
    "body = {\n",
    "    \"layers\": [{\n",
    "        \"type\": \"cartodb\",\n",
    "        \"options\": {\n",
    "            \"sql\": query,\n",
    "            \"cartocss\":style,\n",
    "            \"cartocss_version\": \"2.1.1\"\n",
    "        }\n",
    "    }]\n",
    "}\n",
    "\n",
    "r = requests.post(urlCarto, data=json.dumps(body), headers={'content-type': 'application/json; charset=UTF-8'})\n",
    "print(r.url)\n",
    "pprint.pprint(r.json())\n",
    "\n",
    "tileUrl = 'https://'+account+'.carto.com/api/v1/map/' + r.json()['layergroupid'] + '/{z}/{x}/{y}.png32';\n",
    "\n",
    "map_osm2 = folium.Map(location=[45.5236, 0.6750], zoom_start=3)\n",
    "folium.TileLayer(\n",
    "    tiles=tileUrl,\n",
    "    attr='text',\n",
    "    name='text',\n",
    "    overlay=True\n",
    ").add_to(map_osm2)\n",
    "\n",
    "map_osm2"
   ]
  },
  {
   "cell_type": "markdown",
   "metadata": {},
   "source": [
    "```sql\n",
    "WITH gadm28 as (SELECT the_geom_webmercator, iso2 AS iso, name_engli FROM  gadm28_countries)\n",
    "  SELECT gadm28.iso, gadm28.name_engli, COUNT(synthesys.home_insti)\n",
    "  FROM  sanitized_data as synthesys, gadm28\n",
    "  where ST_Intersects(  gadm28.the_geom_webmercator, synthesys.the_geom_webmercator)\n",
    "  AND synthesys.discipline like 'Earth Sciences & Environment'\n",
    "  group by gadm28.the_geom_webmercator, gadm28.iso, gadm28.name_engli\n",
    "  ORDER BY count DESC\n",
    "```"
   ]
  },
  {
   "cell_type": "code",
   "execution_count": 74,
   "metadata": {},
   "outputs": [
    {
     "name": "stdout",
     "output_type": "stream",
     "text": [
      "https://synthesys.carto.com/api/v2/sql?q=WITH+gadm28+AS+%28SELECT+the_geom_webmercator%2C+iso2+AS+iso%2C+name_engli+FROM++gadm28_countries%29%0A+%0A+SELECT+gadm28.iso%2C+gadm28.name_engli%2C+COUNT%28synthesys.home_insti%29%0A+FROM++sanitized_data+as+synthesys%2C+gadm28%0A+WHERE+ST_Intersects%28++gadm28.the_geom_webmercator%2C+synthesys.the_geom_webmercator%29%0A+GROUP+BY+gadm28.iso%2C+gadm28.name_engli%0A+ORDER+BY+count+DESC++\n"
     ]
    }
   ],
   "source": [
    "# Histogram like query: by country\n",
    "\n",
    "discipline_var = 'Earth Sciences & Environment'\n",
    "\n",
    "query = f\"\"\"WITH gadm28 AS (SELECT the_geom_webmercator, iso2 AS iso, name_engli FROM  gadm28_countries)\n",
    "             SELECT gadm28.iso, gadm28.name_engli, COUNT(synthesys.home_insti)\n",
    "             FROM  sanitized_data as synthesys, gadm28\n",
    "             WHERE ST_Intersects(  gadm28.the_geom_webmercator, synthesys.the_geom_webmercator)\n",
    "             AND synthesys.discipline like '{discipline_var}'\n",
    "             GROUP BY gadm28.iso, gadm28.name_engli\n",
    "             ORDER BY count DESC  \"\"\"\n",
    "\n",
    "account = 'synthesys'\n",
    "urlCarto = f\"https://{account}.carto.com/api/v2/sql\"\n",
    "\n",
    "sql = {\"q\": query}\n",
    "r = requests.get(urlCarto, params=sql)\n",
    "print(r.url)\n",
    "#pprint.pprint(r.json())"
   ]
  },
  {
   "cell_type": "markdown",
   "metadata": {},
   "source": [
    "```json\n",
    "{'fields': {'count': {'type': 'number'},\n",
    "            'iso': {'type': 'string'},\n",
    "            'name_engli': {'type': 'string'}},\n",
    " 'rows': [{'count': 477, 'iso': 'DE', 'name_engli': 'Germany'},\n",
    "          {'count': 341, 'iso': 'IT', 'name_engli': 'Italy'},\n",
    "          {'count': 337, 'iso': 'ES', 'name_engli': 'Spain'},\n",
    "          {'count': 320, 'iso': 'GB', 'name_engli': 'United Kingdom'},\n",
    "          {'count': 249, 'iso': 'PL', 'name_engli': 'Poland'},\n",
    "          {'count': 208, 'iso': 'FR', 'name_engli': 'France'},\n",
    "          {'count': 204, 'iso': 'CZ', 'name_engli': 'Czech Republic'},\n",
    "          {'count': 143, 'iso': 'PT', 'name_engli': 'Portugal'},\n",
    "          {'count': 111, 'iso': 'BG', 'name_engli': 'Bulgaria'},\n",
    "          {'count': 91, 'iso': 'BE', 'name_engli': 'Belgium'},\n",
    "          {'count': 83, 'iso': 'HU', 'name_engli': 'Hungary'},\n",
    "          {'count': 78, 'iso': 'AT', 'name_engli': 'Austria'},\n",
    "          {'count': 69, 'iso': 'NL', 'name_engli': 'Netherlands'},\n",
    "          {'count': 66, 'iso': 'SE', 'name_engli': 'Sweden'},\n",
    "          {'count': 55, 'iso': 'RO', 'name_engli': 'Romania'},\n",
    "          {'count': 52, 'iso': 'GR', 'name_engli': 'Greece'},\n",
    "          {'count': 39, 'iso': 'IE', 'name_engli': 'Ireland'},\n",
    "          {'count': 37, 'iso': 'TR', 'name_engli': 'Turkey'},\n",
    "          {'count': 35, 'iso': 'FI', 'name_engli': 'Finland'},\n",
    "          {'count': 32, 'iso': 'CH', 'name_engli': 'Switzerland'},\n",
    "          {'count': 27, 'iso': 'EE', 'name_engli': 'Estonia'},\n",
    "          {'count': 24, 'iso': 'NO', 'name_engli': 'Norway'},\n",
    "          {'count': 22, 'iso': 'DK', 'name_engli': 'Denmark'},\n",
    "          {'count': 22, 'iso': 'IL', 'name_engli': 'Israel'},\n",
    "          {'count': 21, 'iso': 'HR', 'name_engli': 'Croatia'},\n",
    "          {'count': 20, 'iso': 'SK', 'name_engli': 'Slovakia'},\n",
    "          {'count': 18, 'iso': 'RS', 'name_engli': 'Serbia'},\n",
    "          {'count': 12, 'iso': 'MK', 'name_engli': 'Macedonia'},\n",
    "          {'count': 11, 'iso': 'LT', 'name_engli': 'Lithuania'},\n",
    "          {'count': 6, 'iso': 'PS', 'name_engli': 'Palestina'},\n",
    "          {'count': 6, 'iso': 'LV', 'name_engli': 'Latvia'},\n",
    "          {'count': 5, 'iso': 'AL', 'name_engli': 'Albania'},\n",
    "          {'count': 4, 'iso': 'SI', 'name_engli': 'Slovenia'},\n",
    "          {'count': 3, 'iso': 'BA', 'name_engli': 'Bosnia and Herzegovina'},\n",
    "          {'count': 3, 'iso': 'RE', 'name_engli': 'Reunion'},\n",
    "          {'count': 2, 'iso': 'GF', 'name_engli': 'French Guiana'},\n",
    "          {'count': 2, 'iso': 'IS', 'name_engli': 'Iceland'},\n",
    "          {'count': 1, 'iso': 'CY', 'name_engli': 'Cyprus'},\n",
    "          {'count': 1, 'iso': 'LU', 'name_engli': 'Luxembourg'}],\n",
    " 'time': 16.133,\n",
    " 'total_rows': 39}\n",
    "```"
   ]
  },
  {
   "cell_type": "markdown",
   "metadata": {},
   "source": [
    "## Admin-level 1 across europe\n",
    "\n",
    "Althouh the designs do not explicitly call for this plot, it will be useful to demonstrate how to make it now, just incase the clients ask for us to add it at a later stage.\n"
   ]
  },
  {
   "cell_type": "code",
   "execution_count": 101,
   "metadata": {},
   "outputs": [
    {
     "name": "stdout",
     "output_type": "stream",
     "text": [
      "{'cdn_url': {'http': 'ashbu.cartocdn.com',\n",
      "             'https': 'cartocdn-ashbu.global.ssl.fastly.net',\n",
      "             'templates': {'http': {'subdomains': ['0', '1', '2', '3'],\n",
      "                                    'url': 'http://{s}.ashbu.cartocdn.com'},\n",
      "                           'https': {'subdomains': ['a', 'b', 'c', 'd'],\n",
      "                                     'url': 'https://cartocdn-ashbu_{s}.global.ssl.fastly.net'}}},\n",
      " 'last_updated': '2017-07-27T09:10:25.375Z',\n",
      " 'layergroupid': 'd198762fda46afe9615b84f82f6729fb:1501146625375',\n",
      " 'metadata': {'analyses': [],\n",
      "              'dataviews': {},\n",
      "              'layers': [{'id': 'layer0',\n",
      "                          'meta': {'cartocss': '#layer {polygon-fill: '\n",
      "                                               '#fee5d9;[ count > 33 ] '\n",
      "                                               '{polygon-fill: #fcae91;}[ '\n",
      "                                               'count > 73 ] {polygon-fill: '\n",
      "                                               '#fb6a4a;}[ count > 120 ] '\n",
      "                                               '{polygon-fill: #de2d26;}[ '\n",
      "                                               'count > 177 ] {polygon-fill: '\n",
      "                                               '#a50f15;}\\n'\n",
      "                                               '                   '\n",
      "                                               'polygon-opacity: 0.9;}',\n",
      "                                   'cartocss_meta': {'rules': [{'buckets': [{'filter': {'end': 33,\n",
      "                                                                                        'start': 1,\n",
      "                                                                                        'type': 'range'},\n",
      "                                                                             'value': '#fee5d9'},\n",
      "                                                                            {'filter': {'end': 73,\n",
      "                                                                                        'start': 33,\n",
      "                                                                                        'type': 'range'},\n",
      "                                                                             'value': '#fcae91'},\n",
      "                                                                            {'filter': {'end': 120,\n",
      "                                                                                        'start': 73,\n",
      "                                                                                        'type': 'range'},\n",
      "                                                                             'value': '#fb6a4a'},\n",
      "                                                                            {'filter': {'end': 177,\n",
      "                                                                                        'start': 120,\n",
      "                                                                                        'type': 'range'},\n",
      "                                                                             'value': '#de2d26'},\n",
      "                                                                            {'filter': {'end': 471,\n",
      "                                                                                        'start': 177,\n",
      "                                                                                        'type': 'range'},\n",
      "                                                                             'value': '#a50f15'}],\n",
      "                                                                'column': 'count',\n",
      "                                                                'mapping': '>',\n",
      "                                                                'prop': 'polygon-fill',\n",
      "                                                                'selector': '#layer',\n",
      "                                                                'stats': {'filter_avg': 26.08675799086758}}]},\n",
      "                                   'stats': {'estimatedFeatureCount': 361}},\n",
      "                          'type': 'mapnik'}]}}\n"
     ]
    },
    {
     "data": {
      "text/html": [
       "<div style=\"width:100%;\"><div style=\"position:relative;width:100%;height:0;padding-bottom:60%;\"><iframe src=\"data:text/html;charset=utf-8;base64,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\" style=\"position:absolute;width:100%;height:100%;left:0;top:0;border:none !important;\" allowfullscreen webkitallowfullscreen mozallowfullscreen></iframe></div></div>"
      ],
      "text/plain": [
       "<folium.folium.Map at 0x116c6c6a0>"
      ]
     },
     "execution_count": 101,
     "metadata": {},
     "output_type": "execute_result"
    }
   ],
   "source": [
    "query = \"\"\"WITH gadm28 AS (SELECT the_geom_webmercator, iso FROM  gadm28_adm1)\n",
    " SELECT gadm28.the_geom_webmercator, gadm28.iso, COUNT(synthesys.home_insti) AS count\n",
    " FROM  sanitized_data AS synthesys, gadm28\n",
    " WHERE ST_Intersects(  gadm28.the_geom_webmercator, synthesys.the_geom_webmercator)\n",
    " GROUP BY gadm28.the_geom_webmercator, gadm28.iso\"\"\"\n",
    "\n",
    "style = \"\"\"#layer {polygon-fill: ramp([count], colorbrewer(Reds), jenks());\n",
    "                   polygon-opacity: 0.9;}\"\"\"\n",
    "\n",
    "account = 'synthesys'\n",
    "urlCarto = 'https://'+account+'.carto.com/api/v1/map'\n",
    "body = {\n",
    "    \"layers\": [{\n",
    "        \"type\": \"cartodb\",\n",
    "        \"options\": {\n",
    "            \"sql\": query,\n",
    "            \"cartocss\":style,\n",
    "            \"cartocss_version\": \"2.1.1\"\n",
    "        }\n",
    "    }]\n",
    "}\n",
    "\n",
    "r = requests.post(urlCarto, data=json.dumps(body), headers={'content-type': 'application/json; charset=UTF-8'})\n",
    "pprint.pprint(r.json())\n",
    "\n",
    "tileUrl = 'https://'+account+'.carto.com/api/v1/map/' + r.json()['layergroupid'] + '/{z}/{x}/{y}.png32';\n",
    "\n",
    "map_osm3 = folium.Map(location=[45.5236, 0.6750], zoom_start=3)\n",
    "folium.TileLayer(\n",
    "    tiles=tileUrl,\n",
    "    attr='text',\n",
    "    name='text',\n",
    "    overlay=True\n",
    ").add_to(map_osm3)\n",
    "map_osm3"
   ]
  },
  {
   "cell_type": "markdown",
   "metadata": {},
   "source": [
    "##  WIDGETS: \n",
    "### Examples of querying the SQL API"
   ]
  },
  {
   "cell_type": "code",
   "execution_count": 97,
   "metadata": {},
   "outputs": [],
   "source": [
    "account = 'synthesys'\n",
    "urlCarto = f\"https://{account}.carto.com/api/v2/sql\""
   ]
  },
  {
   "cell_type": "markdown",
   "metadata": {},
   "source": [
    "### Donut chart of gender\n",
    "\n",
    "Again, these data are actually quite lightweight, and if you feel it is a better choice from a development/performance perspective, you could probably make all these queries while building the site, and simply embed the json for all countries into the site. The donut chart should be filtered in four ways:\n",
    "\n",
    "* No filter - this can probably just be embedded to save the request\n",
    "* By country\n",
    "* By discipline\n",
    "* By Synthysis funding round call"
   ]
  },
  {
   "cell_type": "code",
   "execution_count": 96,
   "metadata": {},
   "outputs": [
    {
     "name": "stdout",
     "output_type": "stream",
     "text": [
      "{'fields': {'count': {'type': 'number'}, 'gender': {'type': 'string'}},\n",
      " 'rows': [{'count': 3722, 'gender': 'M'}, {'count': 1996, 'gender': 'F'}],\n",
      " 'time': 0.008,\n",
      " 'total_rows': 2}\n"
     ]
    }
   ],
   "source": [
    "# Men/women donut: no filter\n",
    "\n",
    "sql = {\"q\":\"SELECT gender, count(*) FROM sanitized_data group by gender\"}\n",
    "\n",
    "account = 'synthesys'\n",
    "urlCarto = f\"https://{account}.carto.com/api/v2/sql\"\n",
    "r = requests.get(urlCarto, params=sql) \n",
    "pprint.pprint(r.json())"
   ]
  },
  {
   "cell_type": "code",
   "execution_count": 108,
   "metadata": {},
   "outputs": [
    {
     "data": {
      "text/plain": [
       "{'fields': {'count': {'type': 'number'}, 'gender': {'type': 'string'}},\n",
       " 'rows': [{'count': 331, 'gender': 'M'}, {'count': 169, 'gender': 'F'}],\n",
       " 'time': 0.039,\n",
       " 'total_rows': 2}"
      ]
     },
     "execution_count": 108,
     "metadata": {},
     "output_type": "execute_result"
    }
   ],
   "source": [
    "# Men/women donut: filter by country\n",
    "\n",
    "iso2_var = 'ES'\n",
    "query = f\"\"\"WITH gadm28 AS (SELECT the_geom_webmercator, iso2 FROM  gadm28_countries WHERE iso2 = '{iso2_var}')\n",
    "             SELECT synthesys.gender, count(*)\n",
    "             FROM  sanitized_data as synthesys, gadm28\n",
    "             WHERE ST_Intersects(gadm28.the_geom_webmercator, synthesys.the_geom_webmercator)\n",
    "             GROUP BY synthesys.gender\"\"\"\n",
    "\n",
    "sql = {\"q\": query}\n",
    "\n",
    "account = 'synthesys'\n",
    "urlCarto = f\"https://{account}.carto.com/api/v2/sql\"\n",
    "r = requests.get(urlCarto, params=sql) \n",
    "r.json()"
   ]
  },
  {
   "cell_type": "code",
   "execution_count": 103,
   "metadata": {},
   "outputs": [
    {
     "data": {
      "text/plain": [
       "{'fields': {'count': {'type': 'number'}, 'gender': {'type': 'string'}},\n",
       " 'rows': [{'count': 2116, 'gender': 'M'}, {'count': 1122, 'gender': 'F'}],\n",
       " 'time': 0.014,\n",
       " 'total_rows': 2}"
      ]
     },
     "execution_count": 103,
     "metadata": {},
     "output_type": "execute_result"
    }
   ],
   "source": [
    "# Men/women donut: filter by discipline\n",
    "\n",
    "discipline_var = 'Earth Sciences & Environment'\n",
    "\n",
    "query = f\"\"\"SELECT gender, count(synthesys.gender)\n",
    "             FROM  sanitized_data as synthesys\n",
    "             WHERE discipline like  '{discipline_var}'\n",
    "             GROUP BY synthesys.gender\"\"\"\n",
    "\n",
    "account = 'synthesys'\n",
    "urlCarto = f\"https://{account}.carto.com/api/v2/sql\"\n",
    "sql = {\"q\": query}\n",
    "r = requests.get(urlCarto, params=sql) \n",
    "r.json()"
   ]
  },
  {
   "cell_type": "code",
   "execution_count": 104,
   "metadata": {},
   "outputs": [
    {
     "data": {
      "text/plain": [
       "{'fields': {'count': {'type': 'number'}, 'gender': {'type': 'string'}},\n",
       " 'rows': [],\n",
       " 'time': 0.013,\n",
       " 'total_rows': 0}"
      ]
     },
     "execution_count": 104,
     "metadata": {},
     "output_type": "execute_result"
    }
   ],
   "source": [
    "# Men/Women donut: filter by funding round\n",
    "\n",
    "funding_round_var = 'R1'\n",
    "\n",
    "query = \"\"\"SELECT gender, count(synthesys.gender)\n",
    "            FROM  sanitized_data as synthesys\n",
    "            WHERE funding_ro like '{funding_round_var}'\n",
    "            GROUP BY synthesys.gender\"\"\"\n",
    "\n",
    "account = 'synthesys'\n",
    "urlCarto = f\"https://{account}.carto.com/api/v2/sql\"\n",
    "sql = {\"q\": query}\n",
    "r = requests.get(urlCarto, params=sql) \n",
    "r.json()"
   ]
  },
  {
   "cell_type": "markdown",
   "metadata": {},
   "source": [
    "### WIDGET: DISCIPLINE (BUBBLE CHART)\n",
    "\n",
    "This widget should only appear on the unfiltered page, or the filter by Country or filter by funding call pages.\n",
    "It should not appear on the filter by discipline page."
   ]
  },
  {
   "cell_type": "code",
   "execution_count": 78,
   "metadata": {},
   "outputs": [
    {
     "name": "stdout",
     "output_type": "stream",
     "text": [
      "https://synthesys.carto.com/api/v2/sql?q=WITH+gadm28+AS+%28SELECT+the_geom_webmercator%2C+iso%2C+name_0+FROM++gadm28_adm1%29%0A+%0A+SELECT+gadm28.iso%2C+gadm28.name_0%2C+COUNT%28synthesys.home_insti%29%0A+FROM++sanitized_data+as+synthesys%2C+gadm28%0A+WHERE+ST_Intersects%28gadm28.the_geom_webmercator%2C+synthesys.the_geom_webmercator%29%0A+GROUP+BY+gadm28.iso%2C+gadm28.name_0%0A+ORDER+BY+count+DESC++\n"
     ]
    }
   ],
   "source": [
    "query = f\"\"\"WITH gadm28 AS (SELECT the_geom_webmercator, iso, name_0 FROM  gadm28_adm1)\n",
    " \n",
    " SELECT gadm28.iso, gadm28.name_0, COUNT(synthesys.home_insti)\n",
    " FROM  sanitized_data as synthesys, gadm28\n",
    " WHERE ST_Intersects(gadm28.the_geom_webmercator, synthesys.the_geom_webmercator)\n",
    " GROUP BY gadm28.iso, gadm28.name_0\n",
    " ORDER BY count DESC  \"\"\"\n",
    "\n",
    "\n",
    "account = 'synthesys'\n",
    "urlCarto = f\"https://{account}.carto.com/api/v2/sql\"\n",
    "\n",
    "sql = {\"q\": query}\n",
    "r = requests.get(urlCarto, params=sql)\n",
    "print(r.url)\n",
    "#pprint.pprint(r.json())"
   ]
  },
  {
   "cell_type": "code",
   "execution_count": 89,
   "metadata": {},
   "outputs": [
    {
     "name": "stdout",
     "output_type": "stream",
     "text": [
      "https://synthesys.carto.com/api/v2/sql?q=SELECT+DISTINCT%28synth_roun%29+FROM+sanitized_data+WHERE+synth_roun+is+not+null+ORDER+BY+synth_roun+ASC\n",
      "{'fields': {'synth_roun': {'type': 'string'}},\n",
      " 'rows': [{'synth_roun': 'R1'}, {'synth_roun': 'R2'}, {'synth_roun': 'R3'}],\n",
      " 'time': 0.015,\n",
      " 'total_rows': 3}\n"
     ]
    }
   ],
   "source": [
    "query = f\"\"\"\n",
    " SELECT DISTINCT(discipline) FROM sanitized_data\n",
    " WHERE discipline is not null\n",
    " ORDER BY discipline ASC  \"\"\"\n",
    "\n",
    "query = \"SELECT DISTINCT(synth_roun) FROM sanitized_data WHERE synth_roun is not null ORDER BY synth_roun ASC\"\n",
    "\n",
    "\n",
    "account = 'synthesys'\n",
    "urlCarto = f\"https://{account}.carto.com/api/v2/sql\"\n",
    "\n",
    "sql = {\"q\": query}\n",
    "r = requests.get(urlCarto, params=sql)\n",
    "print(r.url)\n",
    "pprint.pprint(r.json())"
   ]
  },
  {
   "cell_type": "code",
   "execution_count": null,
   "metadata": {
    "collapsed": true
   },
   "outputs": [],
   "source": []
  },
  {
   "cell_type": "code",
   "execution_count": null,
   "metadata": {
    "collapsed": true
   },
   "outputs": [],
   "source": []
  }
 ],
 "metadata": {
  "kernelspec": {
   "display_name": "Python 3",
   "language": "python",
   "name": "python3"
  },
  "language_info": {
   "codemirror_mode": {
    "name": "ipython",
    "version": 3
   },
   "file_extension": ".py",
   "mimetype": "text/x-python",
   "name": "python",
   "nbconvert_exporter": "python",
   "pygments_lexer": "ipython3",
   "version": "3.6.1"
  }
 },
 "nbformat": 4,
 "nbformat_minor": 2
}
